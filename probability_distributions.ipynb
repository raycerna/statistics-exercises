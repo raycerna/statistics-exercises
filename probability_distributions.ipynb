{
 "cells": [
  {
   "cell_type": "code",
   "execution_count": 1,
   "id": "58c4e4c1",
   "metadata": {},
   "outputs": [],
   "source": [
    "import matplotlib.pyplot as plt\n",
    "import numpy as np\n",
    "from scipy import stats\n",
    "import viz # curriculum viz example code\n",
    "\n",
    "np.random.seed(123)"
   ]
  },
  {
   "cell_type": "markdown",
   "id": "a95a70e9",
   "metadata": {},
   "source": [
    "1. A bank found that the average number of cars waiting during the noon hour at a drive-up window follows a Poisson distribution with a mean of 2 cars. Make a chart of this distribution and answer these questions concerning the probability of cars waiting at the drive-up window.\n",
    "\n",
    " - What is the probability that no cars drive up in the noon hour?\n",
    " - What is the probability that 3 or more cars come through the drive through?\n",
    " - How likely is it that the drive through gets at least 1 car?\n",
    "\n",
    "2. Grades of State University graduates are normally distributed with a mean of 3.0 and a standard deviation of .3. Calculate the following:\n",
    "\n",
    " - What grade point average is required to be in the top 5% of the graduating class?\n",
    " - What GPA constitutes the bottom 15% of the class?\n",
    " - An eccentric alumnus left scholarship money for students in the third decile from the bottom of their class.     \n",
    " - Determine the range of the third decile. Would a student with a 2.8 grade point average qualify for this  scholarship?\n",
    " - If I have a GPA of 3.5, what percentile am I in?\n",
    "\n",
    "3. A marketing website has an average click-through rate of 2%. One day they observe 4326 visitors and 97 click-throughs. How likely is it that this many people or more click through?\n",
    "\n",
    "4. You are working on some statistics homework consisting of 100 questions where all of the answers are a probability rounded to the hundreths place. Looking to save time, you put down random probabilities as the answer to each question.\n",
    "\n",
    "What is the probability that at least one of your first 60 answers is correct?\n",
    "The codeup staff tends to get upset when the student break area is not cleaned up. Suppose that there's a 3% chance that any one student cleans the break area when they visit it, and, on any given day, about 90% of the 3 active cohorts of 22 students visit the break area. How likely is it that the break area gets cleaned up each day? How likely is it that it goes two days without getting cleaned up? All week?\n",
    "\n",
    "You want to get lunch at La Panaderia, but notice that the line is usually very long at lunchtime. After several weeks of careful observation, you notice that the average number of people in line when your lunch break starts is normally distributed with a mean of 15 and standard deviation of 3. If it takes 2 minutes for each person to order, and 10 minutes from ordering to getting your food, what is the likelihood that you have at least 15 minutes left to eat your food before you have to go back to class? Assume you have one hour for lunch, and ignore travel time to and from La Panaderia.\n",
    "\n",
    "Connect to the employees database and find the average salary of current employees, along with the standard deviation. For the following questions, calculate the answer based on modeling the employees salaries with a normal distribution defined by the calculated mean and standard deviation then compare this answer to the actual values present in the salaries dataset.\n",
    "\n",
    "What percent of employees earn less than 60,000?\n",
    "What percent of employees earn more than 95,000?\n",
    "What percent of employees earn between 65,000 and 80,000?\n",
    "What do the top 5% of employees make?\n",
    "Hint If you're looking at this exercise and wondering \"How do I get pandas to talk the database, again?\", remember that you'll need 3 things: your .gitignore, your env.py, and to use pd.read_sql. Copy over your .gitignore and env.py from your data science libraries exercises folder, and connect to the employees database like so:\n",
    "\n",
    "\n"
   ]
  },
  {
   "cell_type": "code",
   "execution_count": 37,
   "id": "96bb1508",
   "metadata": {},
   "outputs": [
    {
     "data": {
      "text/plain": [
       "<BarContainer object of 12 artists>"
      ]
     },
     "execution_count": 37,
     "metadata": {},
     "output_type": "execute_result"
    },
    {
     "data": {
      "image/png": "[encoded data removed]",
      "text/plain": [
       "<Figure size 648x432 with 1 Axes>"
      ]
     },
     "metadata": {
      "needs_background": "light"
     },
     "output_type": "display_data"
    }
   ],
   "source": [
    "## 1. \\lambda (tab)\n",
    "\n",
    "λ = 2\n",
    "\n",
    "x = np.arange(0,12)\n",
    "y = stats.poisson(λ).pmf(x)\n",
    "\n",
    "plt.bar(x,y)\n"
   ]
  },
  {
   "cell_type": "code",
   "execution_count": 41,
   "id": "e30cb086",
   "metadata": {
    "scrolled": true
   },
   "outputs": [
    {
     "data": {
      "text/plain": [
       "13.5"
      ]
     },
     "execution_count": 41,
     "metadata": {},
     "output_type": "execute_result"
    }
   ],
   "source": [
    "#1.a\n",
    "stats.poisson(λ).pmf(0).round(3)*100"
   ]
  },
  {
   "cell_type": "code",
   "execution_count": 42,
   "id": "2469354f",
   "metadata": {},
   "outputs": [
    {
     "name": "stdout",
     "output_type": "stream",
     "text": [
      "32.0%\n"
     ]
    }
   ],
   "source": [
    "#1.b\n",
    "print(f'{stats.poisson(λ).sf(2).round(2)*100}%')"
   ]
  },
  {
   "cell_type": "code",
   "execution_count": 43,
   "id": "b76c1844",
   "metadata": {},
   "outputs": [
    {
     "name": "stdout",
     "output_type": "stream",
     "text": [
      "86.0%\n"
     ]
    }
   ],
   "source": [
    "#1.c\n",
    "print(f'{stats.poisson(λ).sf(0).round(2)*100}%')"
   ]
  },
  {
   "cell_type": "code",
   "execution_count": 44,
   "id": "ceedd70a",
   "metadata": {},
   "outputs": [
    {
     "data": {
      "text/plain": [
       "3.4934560880854417"
      ]
     },
     "execution_count": 44,
     "metadata": {},
     "output_type": "execute_result"
    }
   ],
   "source": [
    "#2\n",
    "stats.norm(3, 0.3).isf(0.05)"
   ]
  },
  {
   "cell_type": "code",
   "execution_count": 46,
   "id": "5b7c237a",
   "metadata": {},
   "outputs": [
    {
     "data": {
      "text/plain": [
       "2.689069983151863"
      ]
     },
     "execution_count": 46,
     "metadata": {},
     "output_type": "execute_result"
    }
   ],
   "source": [
    "stats.norm(3,0.3).ppf(0.15)"
   ]
  },
  {
   "cell_type": "code",
   "execution_count": 47,
   "id": "eb1d4141",
   "metadata": {},
   "outputs": [
    {
     "data": {
      "text/plain": [
       "array([2.74751363, 2.84267985])"
      ]
     },
     "execution_count": 47,
     "metadata": {},
     "output_type": "execute_result"
    }
   ],
   "source": [
    "stats.norm(3, 0.3).ppf([0.2, 0.3])"
   ]
  },
  {
   "cell_type": "code",
   "execution_count": 48,
   "id": "2886e7b7",
   "metadata": {},
   "outputs": [
    {
     "data": {
      "text/plain": [
       "0.9522096477271853"
      ]
     },
     "execution_count": 48,
     "metadata": {},
     "output_type": "execute_result"
    }
   ],
   "source": [
    "# If I have a GPA of 3.5, what percentile am I in?\n",
    "\n",
    "stats.norm(3, 0.3).cdf(3.5)"
   ]
  },
  {
   "cell_type": "code",
   "execution_count": 50,
   "id": "e02d9f11",
   "metadata": {},
   "outputs": [
    {
     "data": {
      "text/plain": [
       "0.9507"
      ]
     },
     "execution_count": 50,
     "metadata": {},
     "output_type": "execute_result"
    }
   ],
   "source": [
    "# by Simulation\n",
    "(np.random.normal(3, 0.3, 100_000) < 3.5).mean()"
   ]
  },
  {
   "cell_type": "code",
   "execution_count": 51,
   "id": "288d3769",
   "metadata": {},
   "outputs": [
    {
     "data": {
      "text/plain": [
       "0.13975823631416445"
      ]
     },
     "execution_count": 51,
     "metadata": {},
     "output_type": "execute_result"
    }
   ],
   "source": [
    "#binom distro\n",
    "n = 4326\n",
    "p = 0.02\n",
    "\n",
    "stats.binom(n,p).sf(96)"
   ]
  },
  {
   "cell_type": "code",
   "execution_count": 53,
   "id": "ccc927cb",
   "metadata": {},
   "outputs": [
    {
     "data": {
      "text/plain": [
       "array([[0, 0, 0, ..., 0, 0, 0],\n",
       "       [0, 0, 0, ..., 0, 0, 0],\n",
       "       [0, 0, 0, ..., 0, 0, 0],\n",
       "       ...,\n",
       "       [0, 0, 0, ..., 0, 0, 0],\n",
       "       [0, 0, 0, ..., 0, 0, 0],\n",
       "       [0, 0, 0, ..., 0, 0, 0]])"
      ]
     },
     "execution_count": 53,
     "metadata": {},
     "output_type": "execute_result"
    }
   ],
   "source": [
    "#using simulation\n",
    "\n",
    "clicks = np.random.choice([0,1], size= (10_000, 4326), p = (0.98, 0.02))\n",
    "clicks"
   ]
  },
  {
   "cell_type": "code",
   "execution_count": 55,
   "id": "7d4cef71",
   "metadata": {},
   "outputs": [
    {
     "data": {
      "text/plain": [
       "0.1411"
      ]
     },
     "execution_count": 55,
     "metadata": {},
     "output_type": "execute_result"
    }
   ],
   "source": [
    "(clicks.sum(axis = 1) >= 97).mean()"
   ]
  },
  {
   "cell_type": "code",
   "execution_count": 56,
   "id": "bda4bf38",
   "metadata": {},
   "outputs": [
    {
     "data": {
      "text/plain": [
       "0.14211867659283192"
      ]
     },
     "execution_count": 56,
     "metadata": {},
     "output_type": "execute_result"
    }
   ],
   "source": [
    "λ = n* p\n",
    "\n",
    "stats.poisson(λ).sf(96)\n"
   ]
  },
  {
   "cell_type": "code",
   "execution_count": 57,
   "id": "2ff149da",
   "metadata": {},
   "outputs": [
    {
     "data": {
      "text/plain": [
       "0.45284335760923855"
      ]
     },
     "execution_count": 57,
     "metadata": {},
     "output_type": "execute_result"
    }
   ],
   "source": [
    "#5\n",
    "n = 60\n",
    "p = 0.01\n",
    "\n",
    "stats.binom(n, p).sf(0)"
   ]
  },
  {
   "cell_type": "code",
   "execution_count": 61,
   "id": "bc1c3225",
   "metadata": {},
   "outputs": [
    {
     "data": {
      "text/plain": [
       "0.45049"
      ]
     },
     "execution_count": 61,
     "metadata": {},
     "output_type": "execute_result"
    }
   ],
   "source": [
    "#by simulation\n",
    "\n",
    "((np.random.choice([0,1], size = (100_000, 60), p = (0.99, 0.01))).sum(axis =1) >0).mean()"
   ]
  },
  {
   "cell_type": "code",
   "execution_count": 63,
   "id": "eb997dcd",
   "metadata": {},
   "outputs": [
    {
     "data": {
      "text/plain": [
       "0.8342199288437352"
      ]
     },
     "execution_count": 63,
     "metadata": {},
     "output_type": "execute_result"
    }
   ],
   "source": [
    "# How likely is it that the break area gets cleaned up each day?\n",
    "\n",
    "n = round(0.9 * 3 * 22)\n",
    "p = 0.03\n",
    "\n",
    "stats.binom(n, p).sf(0)"
   ]
  },
  {
   "cell_type": "code",
   "execution_count": 64,
   "id": "007c9dd7",
   "metadata": {},
   "outputs": [
    {
     "data": {
      "text/plain": [
       "<BarContainer object of 10 artists>"
      ]
     },
     "execution_count": 64,
     "metadata": {},
     "output_type": "execute_result"
    },
    {
     "data": {
      "image/png": "[encoded data removed]",
      "text/plain": [
       "<Figure size 648x432 with 1 Axes>"
      ]
     },
     "metadata": {
      "needs_background": "light"
     },
     "output_type": "display_data"
    }
   ],
   "source": [
    "x = np.arange(0, 10)\n",
    "y = stats.binom(n,p).pmf(x)\n",
    "\n",
    "plt.bar(x, y)"
   ]
  },
  {
   "cell_type": "code",
   "execution_count": 66,
   "id": "59b95028",
   "metadata": {},
   "outputs": [
    {
     "data": {
      "text/plain": [
       "0.027483031992576134"
      ]
     },
     "execution_count": 66,
     "metadata": {},
     "output_type": "execute_result"
    }
   ],
   "source": [
    "# How likely is it that it goes two days without getting cleaned up?\n",
    "\n",
    "\n",
    "# How many students would visit the area in two days?\n",
    "\n",
    "stats.binom(n * 2, p).pmf(0)"
   ]
  },
  {
   "cell_type": "code",
   "execution_count": 67,
   "id": "e51806e9",
   "metadata": {},
   "outputs": [
    {
     "data": {
      "text/plain": [
       "0.00012521651388091245"
      ]
     },
     "execution_count": 67,
     "metadata": {},
     "output_type": "execute_result"
    }
   ],
   "source": [
    "# probability of not getting cleaned for a week (5 days)\n",
    "\n",
    "stats.binom(n * 5, p).pmf(0)"
   ]
  },
  {
   "cell_type": "code",
   "execution_count": 68,
   "id": "76ec5ecd",
   "metadata": {},
   "outputs": [
    {
     "data": {
      "text/plain": [
       "0.6914624612740131"
      ]
     },
     "execution_count": 68,
     "metadata": {},
     "output_type": "execute_result"
    }
   ],
   "source": [
    "# convert mean and std from people to 'minutes':\n",
    "mean = 15 * 2 # minutes\n",
    "std_dev = 3 * 2 # minutes\n",
    "\n",
    "\n",
    "# Max time I can be in line without getting late to class = 60 - 15 -10 - 2 = 33 mins\n",
    "\n",
    "stats.norm(mean, std_dev).cdf(33)"
   ]
  },
  {
   "cell_type": "code",
   "execution_count": 69,
   "id": "d583e9c9",
   "metadata": {},
   "outputs": [
    {
     "data": {
      "text/plain": [
       "<matplotlib.lines.Line2D at 0x7f8cc020b2b0>"
      ]
     },
     "execution_count": 69,
     "metadata": {},
     "output_type": "execute_result"
    },
    {
     "data": {
      "image/png": "[encoded data removed]",
      "text/plain": [
       "<Figure size 648x432 with 1 Axes>"
      ]
     },
     "metadata": {
      "needs_background": "light"
     },
     "output_type": "display_data"
    }
   ],
   "source": [
    "x = np.arange(0, 60 , 0.1)\n",
    "y = stats.norm(mean, std_dev).pdf(x)\n",
    "\n",
    "plt.plot(x,y)\n",
    "plt.axvline(35, ls = '--')\n",
    "# plt.axvline(45, ls = '--')"
   ]
  },
  {
   "cell_type": "code",
   "execution_count": 72,
   "id": "5e0396a3",
   "metadata": {},
   "outputs": [
    {
     "name": "stdout",
     "output_type": "stream",
     "text": [
      "69.023%\n"
     ]
    }
   ],
   "source": [
    "print(f'{(np.random.normal(30, 6, 100_000) <= 33).mean()*100}%')"
   ]
  },
  {
   "cell_type": "code",
   "execution_count": null,
   "id": "da08616e",
   "metadata": {},
   "outputs": [],
   "source": []
  }
 ],
 "metadata": {
  "kernelspec": {
   "display_name": "Python 3 (ipykernel)",
   "language": "python",
   "name": "python3"
  },
  "language_info": {
   "codemirror_mode": {
    "name": "ipython",
    "version": 3
   },
   "file_extension": ".py",
   "mimetype": "text/x-python",
   "name": "python",
   "nbconvert_exporter": "python",
   "pygments_lexer": "ipython3",
   "version": "3.9.7"
  }
 },
 "nbformat": 4,
 "nbformat_minor": 5
}
